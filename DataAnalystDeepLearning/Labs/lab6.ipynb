{
 "cells": [
  {
   "cell_type": "code",
   "execution_count": 1,
   "metadata": {},
   "outputs": [],
   "source": [
    "import pandas as pd\n",
    "import numpy as np\n",
    "import matplotlib.pyplot as plt\n",
    "from scipy.stats.stats import pearsonr\n",
    "import statsmodels.formula.api as smf\n",
    "from scipy import stats\n",
    "import seaborn as sns\n",
    "%matplotlib inline"
   ]
  },
  {
   "cell_type": "markdown",
   "metadata": {},
   "source": [
    "### 4. Bài tập áp dụng\n",
    "Dữ liệu: Dữ liệu sử dụng trong lab này là dữ liệu về kích thước giáp cua. (Dữ liệu được chuẩn bị sẵn trong tập tin: crabs.txt)."
   ]
  },
  {
   "cell_type": "code",
   "execution_count": 3,
   "metadata": {},
   "outputs": [],
   "source": [
    "df = pd.read_csv('https://raw.githubusercontent.com/NguyenNgocPhuoc-197CT22487/DLHS/main/DataAnalystDeepLearning/Labs/data/crabs.txt', sep = '\\s+')"
   ]
  },
  {
   "cell_type": "code",
   "execution_count": 4,
   "metadata": {},
   "outputs": [
    {
     "data": {
      "text/html": [
       "<div>\n",
       "<style scoped>\n",
       "    .dataframe tbody tr th:only-of-type {\n",
       "        vertical-align: middle;\n",
       "    }\n",
       "\n",
       "    .dataframe tbody tr th {\n",
       "        vertical-align: top;\n",
       "    }\n",
       "\n",
       "    .dataframe thead th {\n",
       "        text-align: right;\n",
       "    }\n",
       "</style>\n",
       "<table border=\"1\" class=\"dataframe\">\n",
       "  <thead>\n",
       "    <tr style=\"text-align: right;\">\n",
       "      <th></th>\n",
       "      <th>presz</th>\n",
       "      <th>postsz</th>\n",
       "      <th>inc</th>\n",
       "      <th>year</th>\n",
       "      <th>lf</th>\n",
       "    </tr>\n",
       "  </thead>\n",
       "  <tbody>\n",
       "    <tr>\n",
       "      <th>0</th>\n",
       "      <td>113.6</td>\n",
       "      <td>127.7</td>\n",
       "      <td>14.1</td>\n",
       "      <td>NaN</td>\n",
       "      <td>0</td>\n",
       "    </tr>\n",
       "    <tr>\n",
       "      <th>1</th>\n",
       "      <td>118.1</td>\n",
       "      <td>133.2</td>\n",
       "      <td>15.1</td>\n",
       "      <td>NaN</td>\n",
       "      <td>0</td>\n",
       "    </tr>\n",
       "    <tr>\n",
       "      <th>2</th>\n",
       "      <td>119.9</td>\n",
       "      <td>135.3</td>\n",
       "      <td>15.4</td>\n",
       "      <td>NaN</td>\n",
       "      <td>0</td>\n",
       "    </tr>\n",
       "    <tr>\n",
       "      <th>3</th>\n",
       "      <td>126.2</td>\n",
       "      <td>143.3</td>\n",
       "      <td>17.1</td>\n",
       "      <td>NaN</td>\n",
       "      <td>0</td>\n",
       "    </tr>\n",
       "    <tr>\n",
       "      <th>4</th>\n",
       "      <td>126.7</td>\n",
       "      <td>139.3</td>\n",
       "      <td>12.6</td>\n",
       "      <td>NaN</td>\n",
       "      <td>0</td>\n",
       "    </tr>\n",
       "  </tbody>\n",
       "</table>\n",
       "</div>"
      ],
      "text/plain": [
       "   presz  postsz   inc  year  lf\n",
       "0  113.6   127.7  14.1   NaN   0\n",
       "1  118.1   133.2  15.1   NaN   0\n",
       "2  119.9   135.3  15.4   NaN   0\n",
       "3  126.2   143.3  17.1   NaN   0\n",
       "4  126.7   139.3  12.6   NaN   0"
      ]
     },
     "execution_count": 4,
     "metadata": {},
     "output_type": "execute_result"
    }
   ],
   "source": [
    "df.head()"
   ]
  },
  {
   "cell_type": "markdown",
   "metadata": {},
   "source": [
    "### 1. Vẽ đồ thị scatter plot thể hiện mối tương quan giữa postmolt và premolt"
   ]
  },
  {
   "cell_type": "code",
   "execution_count": 9,
   "metadata": {},
   "outputs": [
    {
     "data": {
      "text/plain": [
       "Text(0.5, 1.0, 'Postmost vs Premolt')"
      ]
     },
     "execution_count": 9,
     "metadata": {},
     "output_type": "execute_result"
    },
    {
     "data": {
      "image/png": "[encoded data removed]",
      "text/plain": [
       "<Figure size 432x288 with 1 Axes>"
      ]
     },
     "metadata": {
      "needs_background": "light"
     },
     "output_type": "display_data"
    }
   ],
   "source": [
    "plt.plot(df['presz'],df['postsz'], 'o');\n",
    "plt.xlabel('Postmost size')\n",
    "plt.ylabel('Premolt size')\n",
    "plt.title('Postmost vs Premolt')"
   ]
  },
  {
   "cell_type": "code",
   "execution_count": null,
   "metadata": {},
   "outputs": [],
   "source": []
  },
  {
   "cell_type": "markdown",
   "metadata": {},
   "source": [
    "### 2.Tính hệ số tương quan"
   ]
  },
  {
   "cell_type": "code",
   "execution_count": 11,
   "metadata": {},
   "outputs": [
    {
     "name": "stdout",
     "output_type": "stream",
     "text": [
      "he so tuong quan (0.9903699282533854, 0.0)\n"
     ]
    }
   ],
   "source": [
    "print('he so tuong quan', pearsonr(df['postsz'],df['presz']))"
   ]
  },
  {
   "cell_type": "markdown",
   "metadata": {},
   "source": [
    "### 3.Tìm phương trình hồi quy"
   ]
  },
  {
   "cell_type": "code",
   "execution_count": 13,
   "metadata": {},
   "outputs": [
    {
     "name": "stdout",
     "output_type": "stream",
     "text": [
      "Du bao                             OLS Regression Results                            \n",
      "==============================================================================\n",
      "Dep. Variable:                  presz   R-squared:                       0.981\n",
      "Model:                            OLS   Adj. R-squared:                  0.981\n",
      "Method:                 Least Squares   F-statistic:                 2.405e+04\n",
      "Date:                Mon, 01 Nov 2021   Prob (F-statistic):               0.00\n",
      "Time:                        10:21:18   Log-Likelihood:                -1040.6\n",
      "No. Observations:                 472   AIC:                             2085.\n",
      "Df Residuals:                     470   BIC:                             2094.\n",
      "Df Model:                           1                                         \n",
      "Covariance Type:            nonrobust                                         \n",
      "==============================================================================\n",
      "                 coef    std err          t      P>|t|      [0.025      0.975]\n",
      "------------------------------------------------------------------------------\n",
      "Intercept    -25.2137      1.001    -25.191      0.000     -27.180     -23.247\n",
      "postsz         1.0732      0.007    155.083      0.000       1.060       1.087\n",
      "==============================================================================\n",
      "Omnibus:                      107.875   Durbin-Watson:                   1.684\n",
      "Prob(Omnibus):                  0.000   Jarque-Bera (JB):              625.191\n",
      "Skew:                           0.845   Prob(JB):                    1.74e-136\n",
      "Kurtosis:                       8.379   Cond. No.                     1.43e+03\n",
      "==============================================================================\n",
      "\n",
      "Warnings:\n",
      "[1] Standard Errors assume that the covariance matrix of the errors is correctly specified.\n",
      "[2] The condition number is large, 1.43e+03. This might indicate that there are\n",
      "strong multicollinearity or other numerical problems.\n"
     ]
    }
   ],
   "source": [
    "result = smf.ols('presz~postsz', df).fit()\n",
    "print('Du bao', result.summary())"
   ]
  },
  {
   "cell_type": "code",
   "execution_count": null,
   "metadata": {},
   "outputs": [],
   "source": [
    "#Phuong trinh hoi quy : premost= -25.2137+1.0732*postmolt"
   ]
  },
  {
   "cell_type": "markdown",
   "metadata": {},
   "source": [
    "## 4.dùng phương trình hồi quy để dự báo"
   ]
  },
  {
   "cell_type": "code",
   "execution_count": 14,
   "metadata": {},
   "outputs": [
    {
     "data": {
      "image/png": "[encoded data removed]",
      "text/plain": [
       "<Figure size 432x288 with 1 Axes>"
      ]
     },
     "metadata": {
      "needs_background": "light"
     },
     "output_type": "display_data"
    }
   ],
   "source": [
    "#y dự báo dựa vào phương trình hồi quy\n",
    "sales_pred = result.predict() # predict\n",
    "plt.plot(df['postsz'],df['presz'],'o', color = 'b') # plot \n",
    "plt.plot(df['postsz'],sales_pred,'r',linewidth=2) # line regression\n",
    "plt.xlabel('Postmolt size')\n",
    "plt.ylabel('Premolt size')\n",
    "plt.title('Premolt and Postmolt ')\n",
    "plt.show()"
   ]
  },
  {
   "cell_type": "markdown",
   "metadata": {},
   "source": [
    "## Bài tập làm thêm: hồi quy đa biến:\n",
    "#### Bài 1:\n",
    "Dữ liệu: Dữ liệu sử dụng trong lab này là tập dữ liệu về lượng nhựa, nicotine, CO trong\n",
    "thuốc lá cỡ king. \n",
    "(Dữ liệu được chuẩn bị sẵn trong tập tin: 04_CIGARET.xls)."
   ]
  },
  {
   "cell_type": "code",
   "execution_count": 6,
   "metadata": {},
   "outputs": [
    {
     "data": {
      "text/html": [
       "<div>\n",
       "<style scoped>\n",
       "    .dataframe tbody tr th:only-of-type {\n",
       "        vertical-align: middle;\n",
       "    }\n",
       "\n",
       "    .dataframe tbody tr th {\n",
       "        vertical-align: top;\n",
       "    }\n",
       "\n",
       "    .dataframe thead th {\n",
       "        text-align: right;\n",
       "    }\n",
       "</style>\n",
       "<table border=\"1\" class=\"dataframe\">\n",
       "  <thead>\n",
       "    <tr style=\"text-align: right;\">\n",
       "      <th></th>\n",
       "      <th>KgTar</th>\n",
       "      <th>KgNic</th>\n",
       "      <th>KgCO</th>\n",
       "      <th>MnTar</th>\n",
       "      <th>MnNic</th>\n",
       "      <th>MnCO</th>\n",
       "      <th>FLTar</th>\n",
       "      <th>FLNic</th>\n",
       "      <th>FLCO</th>\n",
       "    </tr>\n",
       "  </thead>\n",
       "  <tbody>\n",
       "    <tr>\n",
       "      <th>0</th>\n",
       "      <td>20</td>\n",
       "      <td>1.1</td>\n",
       "      <td>16</td>\n",
       "      <td>16</td>\n",
       "      <td>1.1</td>\n",
       "      <td>15</td>\n",
       "      <td>5</td>\n",
       "      <td>0.4</td>\n",
       "      <td>4</td>\n",
       "    </tr>\n",
       "    <tr>\n",
       "      <th>1</th>\n",
       "      <td>27</td>\n",
       "      <td>1.7</td>\n",
       "      <td>16</td>\n",
       "      <td>13</td>\n",
       "      <td>0.8</td>\n",
       "      <td>17</td>\n",
       "      <td>16</td>\n",
       "      <td>1.0</td>\n",
       "      <td>19</td>\n",
       "    </tr>\n",
       "    <tr>\n",
       "      <th>2</th>\n",
       "      <td>27</td>\n",
       "      <td>1.7</td>\n",
       "      <td>16</td>\n",
       "      <td>16</td>\n",
       "      <td>1.0</td>\n",
       "      <td>19</td>\n",
       "      <td>17</td>\n",
       "      <td>1.2</td>\n",
       "      <td>17</td>\n",
       "    </tr>\n",
       "    <tr>\n",
       "      <th>3</th>\n",
       "      <td>20</td>\n",
       "      <td>1.1</td>\n",
       "      <td>16</td>\n",
       "      <td>9</td>\n",
       "      <td>0.9</td>\n",
       "      <td>9</td>\n",
       "      <td>13</td>\n",
       "      <td>0.8</td>\n",
       "      <td>18</td>\n",
       "    </tr>\n",
       "    <tr>\n",
       "      <th>4</th>\n",
       "      <td>20</td>\n",
       "      <td>1.1</td>\n",
       "      <td>16</td>\n",
       "      <td>14</td>\n",
       "      <td>0.8</td>\n",
       "      <td>17</td>\n",
       "      <td>13</td>\n",
       "      <td>0.8</td>\n",
       "      <td>18</td>\n",
       "    </tr>\n",
       "  </tbody>\n",
       "</table>\n",
       "</div>"
      ],
      "text/plain": [
       "   KgTar  KgNic  KgCO  MnTar  MnNic  MnCO  FLTar  FLNic  FLCO\n",
       "0     20    1.1    16     16    1.1    15      5    0.4     4\n",
       "1     27    1.7    16     13    0.8    17     16    1.0    19\n",
       "2     27    1.7    16     16    1.0    19     17    1.2    17\n",
       "3     20    1.1    16      9    0.9     9     13    0.8    18\n",
       "4     20    1.1    16     14    0.8    17     13    0.8    18"
      ]
     },
     "execution_count": 6,
     "metadata": {},
     "output_type": "execute_result"
    }
   ],
   "source": [
    "df1 = pd.read_csv('04_CIGARET.csv')\n",
    "df1.head()"
   ]
  },
  {
   "cell_type": "code",
   "execution_count": 10,
   "metadata": {},
   "outputs": [
    {
     "data": {
      "text/html": [
       "<table class=\"simpletable\">\n",
       "<caption>OLS Regression Results</caption>\n",
       "<tr>\n",
       "  <th>Dep. Variable:</th>          <td>KgNic</td>      <th>  R-squared:         </th> <td>   0.099</td>\n",
       "</tr>\n",
       "<tr>\n",
       "  <th>Model:</th>                   <td>OLS</td>       <th>  Adj. R-squared:    </th> <td>   0.017</td>\n",
       "</tr>\n",
       "<tr>\n",
       "  <th>Method:</th>             <td>Least Squares</td>  <th>  F-statistic:       </th> <td>   1.211</td>\n",
       "</tr>\n",
       "<tr>\n",
       "  <th>Date:</th>             <td>Tue, 02 Nov 2021</td> <th>  Prob (F-statistic):</th>  <td> 0.317</td> \n",
       "</tr>\n",
       "<tr>\n",
       "  <th>Time:</th>                 <td>12:31:37</td>     <th>  Log-Likelihood:    </th> <td>  2.7726</td>\n",
       "</tr>\n",
       "<tr>\n",
       "  <th>No. Observations:</th>      <td>    25</td>      <th>  AIC:               </th> <td>  0.4548</td>\n",
       "</tr>\n",
       "<tr>\n",
       "  <th>Df Residuals:</th>          <td>    22</td>      <th>  BIC:               </th> <td>   4.111</td>\n",
       "</tr>\n",
       "<tr>\n",
       "  <th>Df Model:</th>              <td>     2</td>      <th>                     </th>     <td> </td>   \n",
       "</tr>\n",
       "<tr>\n",
       "  <th>Covariance Type:</th>      <td>nonrobust</td>    <th>                     </th>     <td> </td>   \n",
       "</tr>\n",
       "</table>\n",
       "<table class=\"simpletable\">\n",
       "<tr>\n",
       "      <td></td>         <th>coef</th>     <th>std err</th>      <th>t</th>      <th>P>|t|</th>  <th>[0.025</th>    <th>0.975]</th>  \n",
       "</tr>\n",
       "<tr>\n",
       "  <th>Intercept</th> <td>    1.5937</td> <td>    0.793</td> <td>    2.010</td> <td> 0.057</td> <td>   -0.051</td> <td>    3.238</td>\n",
       "</tr>\n",
       "<tr>\n",
       "  <th>KgTar</th>     <td>    0.0231</td> <td>    0.016</td> <td>    1.480</td> <td> 0.153</td> <td>   -0.009</td> <td>    0.055</td>\n",
       "</tr>\n",
       "<tr>\n",
       "  <th>KgCO</th>      <td>   -0.0525</td> <td>    0.054</td> <td>   -0.975</td> <td> 0.340</td> <td>   -0.164</td> <td>    0.059</td>\n",
       "</tr>\n",
       "</table>\n",
       "<table class=\"simpletable\">\n",
       "<tr>\n",
       "  <th>Omnibus:</th>       <td>17.071</td> <th>  Durbin-Watson:     </th> <td>   1.655</td>\n",
       "</tr>\n",
       "<tr>\n",
       "  <th>Prob(Omnibus):</th> <td> 0.000</td> <th>  Jarque-Bera (JB):  </th> <td>  18.215</td>\n",
       "</tr>\n",
       "<tr>\n",
       "  <th>Skew:</th>          <td> 1.721</td> <th>  Prob(JB):          </th> <td>0.000111</td>\n",
       "</tr>\n",
       "<tr>\n",
       "  <th>Kurtosis:</th>      <td> 5.376</td> <th>  Cond. No.          </th> <td>    456.</td>\n",
       "</tr>\n",
       "</table><br/><br/>Warnings:<br/>[1] Standard Errors assume that the covariance matrix of the errors is correctly specified."
      ],
      "text/plain": [
       "<class 'statsmodels.iolib.summary.Summary'>\n",
       "\"\"\"\n",
       "                            OLS Regression Results                            \n",
       "==============================================================================\n",
       "Dep. Variable:                  KgNic   R-squared:                       0.099\n",
       "Model:                            OLS   Adj. R-squared:                  0.017\n",
       "Method:                 Least Squares   F-statistic:                     1.211\n",
       "Date:                Tue, 02 Nov 2021   Prob (F-statistic):              0.317\n",
       "Time:                        12:31:37   Log-Likelihood:                 2.7726\n",
       "No. Observations:                  25   AIC:                            0.4548\n",
       "Df Residuals:                      22   BIC:                             4.111\n",
       "Df Model:                           2                                         \n",
       "Covariance Type:            nonrobust                                         \n",
       "==============================================================================\n",
       "                 coef    std err          t      P>|t|      [0.025      0.975]\n",
       "------------------------------------------------------------------------------\n",
       "Intercept      1.5937      0.793      2.010      0.057      -0.051       3.238\n",
       "KgTar          0.0231      0.016      1.480      0.153      -0.009       0.055\n",
       "KgCO          -0.0525      0.054     -0.975      0.340      -0.164       0.059\n",
       "==============================================================================\n",
       "Omnibus:                       17.071   Durbin-Watson:                   1.655\n",
       "Prob(Omnibus):                  0.000   Jarque-Bera (JB):               18.215\n",
       "Skew:                           1.721   Prob(JB):                     0.000111\n",
       "Kurtosis:                       5.376   Cond. No.                         456.\n",
       "==============================================================================\n",
       "\n",
       "Warnings:\n",
       "[1] Standard Errors assume that the covariance matrix of the errors is correctly specified.\n",
       "\"\"\""
      ]
     },
     "execution_count": 10,
     "metadata": {},
     "output_type": "execute_result"
    }
   ],
   "source": [
    "result1 = smf.ols('KgNic~KgTar+KgCO', df1).fit()\n",
    "result1.summary()"
   ]
  },
  {
   "cell_type": "markdown",
   "metadata": {},
   "source": [
    "- ta thấy giá trị F được tính là 1.211 với P-value tương ứng là 0.317 (>0.05). \n",
    "- Do P-value > 0.05 nên mô hình này cũng không có ý nghĩa thống kê."
   ]
  },
  {
   "cell_type": "code",
   "execution_count": 14,
   "metadata": {},
   "outputs": [
    {
     "data": {
      "text/html": [
       "<div>\n",
       "<style scoped>\n",
       "    .dataframe tbody tr th:only-of-type {\n",
       "        vertical-align: middle;\n",
       "    }\n",
       "\n",
       "    .dataframe tbody tr th {\n",
       "        vertical-align: top;\n",
       "    }\n",
       "\n",
       "    .dataframe thead th {\n",
       "        text-align: right;\n",
       "    }\n",
       "</style>\n",
       "<table border=\"1\" class=\"dataframe\">\n",
       "  <thead>\n",
       "    <tr style=\"text-align: right;\">\n",
       "      <th></th>\n",
       "      <th>KgTar</th>\n",
       "      <th>KgNic</th>\n",
       "      <th>KgCO</th>\n",
       "    </tr>\n",
       "  </thead>\n",
       "  <tbody>\n",
       "    <tr>\n",
       "      <th>KgTar</th>\n",
       "      <td>1.000000</td>\n",
       "      <td>0.245378</td>\n",
       "      <td>0.355832</td>\n",
       "    </tr>\n",
       "    <tr>\n",
       "      <th>KgNic</th>\n",
       "      <td>0.245378</td>\n",
       "      <td>1.000000</td>\n",
       "      <td>-0.097074</td>\n",
       "    </tr>\n",
       "    <tr>\n",
       "      <th>KgCO</th>\n",
       "      <td>0.355832</td>\n",
       "      <td>-0.097074</td>\n",
       "      <td>1.000000</td>\n",
       "    </tr>\n",
       "  </tbody>\n",
       "</table>\n",
       "</div>"
      ],
      "text/plain": [
       "          KgTar     KgNic      KgCO\n",
       "KgTar  1.000000  0.245378  0.355832\n",
       "KgNic  0.245378  1.000000 -0.097074\n",
       "KgCO   0.355832 -0.097074  1.000000"
      ]
     },
     "execution_count": 14,
     "metadata": {},
     "output_type": "execute_result"
    }
   ],
   "source": [
    "df1[['KgTar','KgNic','KgCO']].corr()"
   ]
  },
  {
   "cell_type": "markdown",
   "metadata": {},
   "source": [
    "- 2. Bạn hãy xác định phương trình hồi quy trên có thể sử dụng để dự đoán lượng nicotine tronthuốc lá khi biết lượng nhựa và CO trong thuốc lá không? \n",
    "- Vì sao có hoặc vì sao không?"
   ]
  },
  {
   "cell_type": "code",
   "execution_count": 15,
   "metadata": {},
   "outputs": [
    {
     "data": {
      "text/html": [
       "<table class=\"simpletable\">\n",
       "<caption>OLS Regression Results</caption>\n",
       "<tr>\n",
       "  <th>Dep. Variable:</th>          <td>MnNic</td>      <th>  R-squared:         </th> <td>   0.915</td>\n",
       "</tr>\n",
       "<tr>\n",
       "  <th>Model:</th>                   <td>OLS</td>       <th>  Adj. R-squared:    </th> <td>   0.908</td>\n",
       "</tr>\n",
       "<tr>\n",
       "  <th>Method:</th>             <td>Least Squares</td>  <th>  F-statistic:       </th> <td>   118.8</td>\n",
       "</tr>\n",
       "<tr>\n",
       "  <th>Date:</th>             <td>Tue, 02 Nov 2021</td> <th>  Prob (F-statistic):</th> <td>1.62e-12</td>\n",
       "</tr>\n",
       "<tr>\n",
       "  <th>Time:</th>                 <td>12:38:25</td>     <th>  Log-Likelihood:    </th> <td>  31.318</td>\n",
       "</tr>\n",
       "<tr>\n",
       "  <th>No. Observations:</th>      <td>    25</td>      <th>  AIC:               </th> <td>  -56.64</td>\n",
       "</tr>\n",
       "<tr>\n",
       "  <th>Df Residuals:</th>          <td>    22</td>      <th>  BIC:               </th> <td>  -52.98</td>\n",
       "</tr>\n",
       "<tr>\n",
       "  <th>Df Model:</th>              <td>     2</td>      <th>                     </th>     <td> </td>   \n",
       "</tr>\n",
       "<tr>\n",
       "  <th>Covariance Type:</th>      <td>nonrobust</td>    <th>                     </th>     <td> </td>   \n",
       "</tr>\n",
       "</table>\n",
       "<table class=\"simpletable\">\n",
       "<tr>\n",
       "      <td></td>         <th>coef</th>     <th>std err</th>      <th>t</th>      <th>P>|t|</th>  <th>[0.025</th>    <th>0.975]</th>  \n",
       "</tr>\n",
       "<tr>\n",
       "  <th>Intercept</th> <td>    0.2507</td> <td>    0.057</td> <td>    4.399</td> <td> 0.000</td> <td>    0.133</td> <td>    0.369</td>\n",
       "</tr>\n",
       "<tr>\n",
       "  <th>MnTar</th>     <td>    0.1007</td> <td>    0.008</td> <td>   12.503</td> <td> 0.000</td> <td>    0.084</td> <td>    0.117</td>\n",
       "</tr>\n",
       "<tr>\n",
       "  <th>MnCO</th>      <td>   -0.0454</td> <td>    0.007</td> <td>   -6.305</td> <td> 0.000</td> <td>   -0.060</td> <td>   -0.030</td>\n",
       "</tr>\n",
       "</table>\n",
       "<table class=\"simpletable\">\n",
       "<tr>\n",
       "  <th>Omnibus:</th>       <td> 3.270</td> <th>  Durbin-Watson:     </th> <td>   2.014</td>\n",
       "</tr>\n",
       "<tr>\n",
       "  <th>Prob(Omnibus):</th> <td> 0.195</td> <th>  Jarque-Bera (JB):  </th> <td>   1.797</td>\n",
       "</tr>\n",
       "<tr>\n",
       "  <th>Skew:</th>          <td>-0.606</td> <th>  Prob(JB):          </th> <td>   0.407</td>\n",
       "</tr>\n",
       "<tr>\n",
       "  <th>Kurtosis:</th>      <td> 3.508</td> <th>  Cond. No.          </th> <td>    79.3</td>\n",
       "</tr>\n",
       "</table><br/><br/>Warnings:<br/>[1] Standard Errors assume that the covariance matrix of the errors is correctly specified."
      ],
      "text/plain": [
       "<class 'statsmodels.iolib.summary.Summary'>\n",
       "\"\"\"\n",
       "                            OLS Regression Results                            \n",
       "==============================================================================\n",
       "Dep. Variable:                  MnNic   R-squared:                       0.915\n",
       "Model:                            OLS   Adj. R-squared:                  0.908\n",
       "Method:                 Least Squares   F-statistic:                     118.8\n",
       "Date:                Tue, 02 Nov 2021   Prob (F-statistic):           1.62e-12\n",
       "Time:                        12:38:25   Log-Likelihood:                 31.318\n",
       "No. Observations:                  25   AIC:                            -56.64\n",
       "Df Residuals:                      22   BIC:                            -52.98\n",
       "Df Model:                           2                                         \n",
       "Covariance Type:            nonrobust                                         \n",
       "==============================================================================\n",
       "                 coef    std err          t      P>|t|      [0.025      0.975]\n",
       "------------------------------------------------------------------------------\n",
       "Intercept      0.2507      0.057      4.399      0.000       0.133       0.369\n",
       "MnTar          0.1007      0.008     12.503      0.000       0.084       0.117\n",
       "MnCO          -0.0454      0.007     -6.305      0.000      -0.060      -0.030\n",
       "==============================================================================\n",
       "Omnibus:                        3.270   Durbin-Watson:                   2.014\n",
       "Prob(Omnibus):                  0.195   Jarque-Bera (JB):                1.797\n",
       "Skew:                          -0.606   Prob(JB):                        0.407\n",
       "Kurtosis:                       3.508   Cond. No.                         79.3\n",
       "==============================================================================\n",
       "\n",
       "Warnings:\n",
       "[1] Standard Errors assume that the covariance matrix of the errors is correctly specified.\n",
       "\"\"\""
      ]
     },
     "execution_count": 15,
     "metadata": {},
     "output_type": "execute_result"
    }
   ],
   "source": [
    "result1 = smf.ols('MnNic~MnTar+MnCO', df1).fit()\n",
    "result1.summary()"
   ]
  },
  {
   "cell_type": "markdown",
   "metadata": {},
   "source": [
    "- ta thấy giá trị F được tính là 118.8 => quá ớnvới P-value tương ứng là 1.62e-12 (< 0.05). \n",
    " nên mô hình này cũng không có ý nghĩa thống kê."
   ]
  },
  {
   "cell_type": "code",
   "execution_count": 16,
   "metadata": {},
   "outputs": [
    {
     "data": {
      "text/html": [
       "<div>\n",
       "<style scoped>\n",
       "    .dataframe tbody tr th:only-of-type {\n",
       "        vertical-align: middle;\n",
       "    }\n",
       "\n",
       "    .dataframe tbody tr th {\n",
       "        vertical-align: top;\n",
       "    }\n",
       "\n",
       "    .dataframe thead th {\n",
       "        text-align: right;\n",
       "    }\n",
       "</style>\n",
       "<table border=\"1\" class=\"dataframe\">\n",
       "  <thead>\n",
       "    <tr style=\"text-align: right;\">\n",
       "      <th></th>\n",
       "      <th>MnNic</th>\n",
       "      <th>MnTar</th>\n",
       "      <th>MnCO</th>\n",
       "    </tr>\n",
       "  </thead>\n",
       "  <tbody>\n",
       "    <tr>\n",
       "      <th>MnNic</th>\n",
       "      <td>1.000000</td>\n",
       "      <td>0.873034</td>\n",
       "      <td>0.559662</td>\n",
       "    </tr>\n",
       "    <tr>\n",
       "      <th>MnTar</th>\n",
       "      <td>0.873034</td>\n",
       "      <td>1.000000</td>\n",
       "      <td>0.865523</td>\n",
       "    </tr>\n",
       "    <tr>\n",
       "      <th>MnCO</th>\n",
       "      <td>0.559662</td>\n",
       "      <td>0.865523</td>\n",
       "      <td>1.000000</td>\n",
       "    </tr>\n",
       "  </tbody>\n",
       "</table>\n",
       "</div>"
      ],
      "text/plain": [
       "          MnNic     MnTar      MnCO\n",
       "MnNic  1.000000  0.873034  0.559662\n",
       "MnTar  0.873034  1.000000  0.865523\n",
       "MnCO   0.559662  0.865523  1.000000"
      ]
     },
     "execution_count": 16,
     "metadata": {},
     "output_type": "execute_result"
    }
   ],
   "source": [
    "df1[['MnNic','MnTar','MnCO']].corr()"
   ]
  },
  {
   "cell_type": "markdown",
   "metadata": {},
   "source": [
    "### Bài 2:\n",
    "Dữ liệu: Dữ liệu sử dụng trong lab này là dữ liệu về giá bán nhà. (Dữ liệu được chuẩn bị sẵn\n",
    "trong tập tin: 23_HOMES.xls)"
   ]
  },
  {
   "cell_type": "code",
   "execution_count": 18,
   "metadata": {},
   "outputs": [
    {
     "data": {
      "text/html": [
       "<div>\n",
       "<style scoped>\n",
       "    .dataframe tbody tr th:only-of-type {\n",
       "        vertical-align: middle;\n",
       "    }\n",
       "\n",
       "    .dataframe tbody tr th {\n",
       "        vertical-align: top;\n",
       "    }\n",
       "\n",
       "    .dataframe thead th {\n",
       "        text-align: right;\n",
       "    }\n",
       "</style>\n",
       "<table border=\"1\" class=\"dataframe\">\n",
       "  <thead>\n",
       "    <tr style=\"text-align: right;\">\n",
       "      <th></th>\n",
       "      <th>Selling_Price</th>\n",
       "      <th>List_Price</th>\n",
       "      <th>Area</th>\n",
       "      <th>Acres</th>\n",
       "      <th>Age</th>\n",
       "      <th>Taxes</th>\n",
       "      <th>Rooms</th>\n",
       "      <th>Bedrooms</th>\n",
       "      <th>Baths_full</th>\n",
       "    </tr>\n",
       "  </thead>\n",
       "  <tbody>\n",
       "    <tr>\n",
       "      <th>0</th>\n",
       "      <td>400000</td>\n",
       "      <td>414000</td>\n",
       "      <td>2704</td>\n",
       "      <td>2.27</td>\n",
       "      <td>27</td>\n",
       "      <td>4920</td>\n",
       "      <td>9</td>\n",
       "      <td>3</td>\n",
       "      <td>3</td>\n",
       "    </tr>\n",
       "    <tr>\n",
       "      <th>1</th>\n",
       "      <td>370000</td>\n",
       "      <td>379000</td>\n",
       "      <td>2096</td>\n",
       "      <td>0.75</td>\n",
       "      <td>21</td>\n",
       "      <td>4113</td>\n",
       "      <td>8</td>\n",
       "      <td>4</td>\n",
       "      <td>2</td>\n",
       "    </tr>\n",
       "    <tr>\n",
       "      <th>2</th>\n",
       "      <td>382500</td>\n",
       "      <td>389900</td>\n",
       "      <td>2737</td>\n",
       "      <td>1.00</td>\n",
       "      <td>36</td>\n",
       "      <td>6072</td>\n",
       "      <td>9</td>\n",
       "      <td>4</td>\n",
       "      <td>2</td>\n",
       "    </tr>\n",
       "    <tr>\n",
       "      <th>3</th>\n",
       "      <td>300000</td>\n",
       "      <td>299900</td>\n",
       "      <td>1800</td>\n",
       "      <td>0.43</td>\n",
       "      <td>34</td>\n",
       "      <td>4024</td>\n",
       "      <td>8</td>\n",
       "      <td>4</td>\n",
       "      <td>2</td>\n",
       "    </tr>\n",
       "    <tr>\n",
       "      <th>4</th>\n",
       "      <td>305000</td>\n",
       "      <td>319900</td>\n",
       "      <td>1066</td>\n",
       "      <td>3.60</td>\n",
       "      <td>69</td>\n",
       "      <td>3562</td>\n",
       "      <td>6</td>\n",
       "      <td>3</td>\n",
       "      <td>2</td>\n",
       "    </tr>\n",
       "  </tbody>\n",
       "</table>\n",
       "</div>"
      ],
      "text/plain": [
       "   Selling_Price  List_Price  Area  Acres  Age  Taxes  Rooms  Bedrooms  \\\n",
       "0         400000      414000  2704   2.27   27   4920      9         3   \n",
       "1         370000      379000  2096   0.75   21   4113      8         4   \n",
       "2         382500      389900  2737   1.00   36   6072      9         4   \n",
       "3         300000      299900  1800   0.43   34   4024      8         4   \n",
       "4         305000      319900  1066   3.60   69   3562      6         3   \n",
       "\n",
       "   Baths_full  \n",
       "0           3  \n",
       "1           2  \n",
       "2           2  \n",
       "3           2  \n",
       "4           2  "
      ]
     },
     "execution_count": 18,
     "metadata": {},
     "output_type": "execute_result"
    }
   ],
   "source": [
    "df2 = pd.read_csv('23_HOMES.csv')\n",
    "df2.head()"
   ]
  },
  {
   "cell_type": "markdown",
   "metadata": {},
   "source": [
    "#### 1. Nếu chỉ sử dụng 1 biến x để dự đoán giá nhà, phương trình hồi quy 1 biến dự đoán (predictor) nào sau đây là tốt nhất? Tại sao?"
   ]
  },
  {
   "cell_type": "code",
   "execution_count": 20,
   "metadata": {},
   "outputs": [
    {
     "data": {
      "text/html": [
       "<table class=\"simpletable\">\n",
       "<caption>OLS Regression Results</caption>\n",
       "<tr>\n",
       "  <th>Dep. Variable:</th>          <td>MnNic</td>      <th>  R-squared:         </th> <td>   0.915</td>\n",
       "</tr>\n",
       "<tr>\n",
       "  <th>Model:</th>                   <td>OLS</td>       <th>  Adj. R-squared:    </th> <td>   0.908</td>\n",
       "</tr>\n",
       "<tr>\n",
       "  <th>Method:</th>             <td>Least Squares</td>  <th>  F-statistic:       </th> <td>   118.8</td>\n",
       "</tr>\n",
       "<tr>\n",
       "  <th>Date:</th>             <td>Tue, 02 Nov 2021</td> <th>  Prob (F-statistic):</th> <td>1.62e-12</td>\n",
       "</tr>\n",
       "<tr>\n",
       "  <th>Time:</th>                 <td>13:04:32</td>     <th>  Log-Likelihood:    </th> <td>  31.318</td>\n",
       "</tr>\n",
       "<tr>\n",
       "  <th>No. Observations:</th>      <td>    25</td>      <th>  AIC:               </th> <td>  -56.64</td>\n",
       "</tr>\n",
       "<tr>\n",
       "  <th>Df Residuals:</th>          <td>    22</td>      <th>  BIC:               </th> <td>  -52.98</td>\n",
       "</tr>\n",
       "<tr>\n",
       "  <th>Df Model:</th>              <td>     2</td>      <th>                     </th>     <td> </td>   \n",
       "</tr>\n",
       "<tr>\n",
       "  <th>Covariance Type:</th>      <td>nonrobust</td>    <th>                     </th>     <td> </td>   \n",
       "</tr>\n",
       "</table>\n",
       "<table class=\"simpletable\">\n",
       "<tr>\n",
       "      <td></td>         <th>coef</th>     <th>std err</th>      <th>t</th>      <th>P>|t|</th>  <th>[0.025</th>    <th>0.975]</th>  \n",
       "</tr>\n",
       "<tr>\n",
       "  <th>Intercept</th> <td>    0.2507</td> <td>    0.057</td> <td>    4.399</td> <td> 0.000</td> <td>    0.133</td> <td>    0.369</td>\n",
       "</tr>\n",
       "<tr>\n",
       "  <th>MnTar</th>     <td>    0.1007</td> <td>    0.008</td> <td>   12.503</td> <td> 0.000</td> <td>    0.084</td> <td>    0.117</td>\n",
       "</tr>\n",
       "<tr>\n",
       "  <th>MnCO</th>      <td>   -0.0454</td> <td>    0.007</td> <td>   -6.305</td> <td> 0.000</td> <td>   -0.060</td> <td>   -0.030</td>\n",
       "</tr>\n",
       "</table>\n",
       "<table class=\"simpletable\">\n",
       "<tr>\n",
       "  <th>Omnibus:</th>       <td> 3.270</td> <th>  Durbin-Watson:     </th> <td>   2.014</td>\n",
       "</tr>\n",
       "<tr>\n",
       "  <th>Prob(Omnibus):</th> <td> 0.195</td> <th>  Jarque-Bera (JB):  </th> <td>   1.797</td>\n",
       "</tr>\n",
       "<tr>\n",
       "  <th>Skew:</th>          <td>-0.606</td> <th>  Prob(JB):          </th> <td>   0.407</td>\n",
       "</tr>\n",
       "<tr>\n",
       "  <th>Kurtosis:</th>      <td> 3.508</td> <th>  Cond. No.          </th> <td>    79.3</td>\n",
       "</tr>\n",
       "</table><br/><br/>Warnings:<br/>[1] Standard Errors assume that the covariance matrix of the errors is correctly specified."
      ],
      "text/plain": [
       "<class 'statsmodels.iolib.summary.Summary'>\n",
       "\"\"\"\n",
       "                            OLS Regression Results                            \n",
       "==============================================================================\n",
       "Dep. Variable:                  MnNic   R-squared:                       0.915\n",
       "Model:                            OLS   Adj. R-squared:                  0.908\n",
       "Method:                 Least Squares   F-statistic:                     118.8\n",
       "Date:                Tue, 02 Nov 2021   Prob (F-statistic):           1.62e-12\n",
       "Time:                        13:04:32   Log-Likelihood:                 31.318\n",
       "No. Observations:                  25   AIC:                            -56.64\n",
       "Df Residuals:                      22   BIC:                            -52.98\n",
       "Df Model:                           2                                         \n",
       "Covariance Type:            nonrobust                                         \n",
       "==============================================================================\n",
       "                 coef    std err          t      P>|t|      [0.025      0.975]\n",
       "------------------------------------------------------------------------------\n",
       "Intercept      0.2507      0.057      4.399      0.000       0.133       0.369\n",
       "MnTar          0.1007      0.008     12.503      0.000       0.084       0.117\n",
       "MnCO          -0.0454      0.007     -6.305      0.000      -0.060      -0.030\n",
       "==============================================================================\n",
       "Omnibus:                        3.270   Durbin-Watson:                   2.014\n",
       "Prob(Omnibus):                  0.195   Jarque-Bera (JB):                1.797\n",
       "Skew:                          -0.606   Prob(JB):                        0.407\n",
       "Kurtosis:                       3.508   Cond. No.                         79.3\n",
       "==============================================================================\n",
       "\n",
       "Warnings:\n",
       "[1] Standard Errors assume that the covariance matrix of the errors is correctly specified.\n",
       "\"\"\""
      ]
     },
     "execution_count": 20,
     "metadata": {},
     "output_type": "execute_result"
    }
   ],
   "source": [
    "result2 = smf.ols('Selling_Price~List_Price+Area', df2).fit()\n",
    "result1.summary()"
   ]
  },
  {
   "attachments": {
    "26fc9c54-ed03-4724-a2c2-5191373e8a82.png": {
     "image/png": "[encoded data removed]"
    }
   },
   "cell_type": "markdown",
   "metadata": {},
   "source": [
    "![image.png](attachment:26fc9c54-ed03-4724-a2c2-5191373e8a82.png)"
   ]
  },
  {
   "cell_type": "markdown",
   "metadata": {},
   "source": [
    "## Chọn x = Lb để dự đoán giá nhà là tốt nhất R2 và Adjusted R2 lớn nhất"
   ]
  },
  {
   "cell_type": "markdown",
   "metadata": {},
   "source": [
    "### 2. Nếu sử dụng đúng 2 biến dự đoán để dự đoán giá nhà, phương trình hồi quy 2 biến dự\n",
    "đoán (predictor) nào ở trên là tốt nhất? Tại sao?\n",
    "### => chọn 2 biến LP, LA hoặc LP, LOT đều tốt vì R2 và Adjusted R2 lớn nhất"
   ]
  },
  {
   "cell_type": "markdown",
   "metadata": {},
   "source": [
    "### 3. Phương trình hồi quy nào trong số các phương trình hồi quy trên là tốt nhất để dự đoán giá nhà? Tại sao?\n",
    "### => phương trình có các biến x là tốt nhất\n",
    "- LP, LA, Lot\n",
    "- LP, LA\n",
    "- LP, LOT\n"
   ]
  },
  {
   "cell_type": "markdown",
   "metadata": {},
   "source": [
    "### 4. Một ngôi nhà được rao bán với giá niêm yết 400.000 USD, nó có diện tích là 3000 feet\n",
    "vuông, và diện tích đất rộng 2 mẫu. Giá trị dự đoán tốt nhất của giá bán là bao nhiêu? Giá\n",
    "bán dự đoán có thể là ước lượng tốt hay không? Giá trị dự đoán đó có khả năng rất chính\n",
    "xác không?"
   ]
  },
  {
   "cell_type": "code",
   "execution_count": 28,
   "metadata": {},
   "outputs": [
    {
     "data": {
      "text/html": [
       "<div>\n",
       "<style scoped>\n",
       "    .dataframe tbody tr th:only-of-type {\n",
       "        vertical-align: middle;\n",
       "    }\n",
       "\n",
       "    .dataframe tbody tr th {\n",
       "        vertical-align: top;\n",
       "    }\n",
       "\n",
       "    .dataframe thead th {\n",
       "        text-align: right;\n",
       "    }\n",
       "</style>\n",
       "<table border=\"1\" class=\"dataframe\">\n",
       "  <thead>\n",
       "    <tr style=\"text-align: right;\">\n",
       "      <th></th>\n",
       "      <th>Selling_Price</th>\n",
       "      <th>List_Price</th>\n",
       "      <th>Area</th>\n",
       "      <th>Acres</th>\n",
       "      <th>Age</th>\n",
       "      <th>Taxes</th>\n",
       "      <th>Rooms</th>\n",
       "      <th>Bedrooms</th>\n",
       "      <th>Baths_full</th>\n",
       "    </tr>\n",
       "  </thead>\n",
       "  <tbody>\n",
       "    <tr>\n",
       "      <th>0</th>\n",
       "      <td>400000</td>\n",
       "      <td>414000</td>\n",
       "      <td>2704</td>\n",
       "      <td>2.27</td>\n",
       "      <td>27</td>\n",
       "      <td>4920</td>\n",
       "      <td>9</td>\n",
       "      <td>3</td>\n",
       "      <td>3</td>\n",
       "    </tr>\n",
       "    <tr>\n",
       "      <th>1</th>\n",
       "      <td>370000</td>\n",
       "      <td>379000</td>\n",
       "      <td>2096</td>\n",
       "      <td>0.75</td>\n",
       "      <td>21</td>\n",
       "      <td>4113</td>\n",
       "      <td>8</td>\n",
       "      <td>4</td>\n",
       "      <td>2</td>\n",
       "    </tr>\n",
       "    <tr>\n",
       "      <th>2</th>\n",
       "      <td>382500</td>\n",
       "      <td>389900</td>\n",
       "      <td>2737</td>\n",
       "      <td>1.00</td>\n",
       "      <td>36</td>\n",
       "      <td>6072</td>\n",
       "      <td>9</td>\n",
       "      <td>4</td>\n",
       "      <td>2</td>\n",
       "    </tr>\n",
       "    <tr>\n",
       "      <th>3</th>\n",
       "      <td>300000</td>\n",
       "      <td>299900</td>\n",
       "      <td>1800</td>\n",
       "      <td>0.43</td>\n",
       "      <td>34</td>\n",
       "      <td>4024</td>\n",
       "      <td>8</td>\n",
       "      <td>4</td>\n",
       "      <td>2</td>\n",
       "    </tr>\n",
       "    <tr>\n",
       "      <th>4</th>\n",
       "      <td>305000</td>\n",
       "      <td>319900</td>\n",
       "      <td>1066</td>\n",
       "      <td>3.60</td>\n",
       "      <td>69</td>\n",
       "      <td>3562</td>\n",
       "      <td>6</td>\n",
       "      <td>3</td>\n",
       "      <td>2</td>\n",
       "    </tr>\n",
       "  </tbody>\n",
       "</table>\n",
       "</div>"
      ],
      "text/plain": [
       "   Selling_Price  List_Price  Area  Acres  Age  Taxes  Rooms  Bedrooms  \\\n",
       "0         400000      414000  2704   2.27   27   4920      9         3   \n",
       "1         370000      379000  2096   0.75   21   4113      8         4   \n",
       "2         382500      389900  2737   1.00   36   6072      9         4   \n",
       "3         300000      299900  1800   0.43   34   4024      8         4   \n",
       "4         305000      319900  1066   3.60   69   3562      6         3   \n",
       "\n",
       "   Baths_full  \n",
       "0           3  \n",
       "1           2  \n",
       "2           2  \n",
       "3           2  \n",
       "4           2  "
      ]
     },
     "execution_count": 28,
     "metadata": {},
     "output_type": "execute_result"
    }
   ],
   "source": [
    "df2.head()"
   ]
  },
  {
   "cell_type": "code",
   "execution_count": 29,
   "metadata": {},
   "outputs": [],
   "source": [
    "result2 = smf.ols('Selling_Price~List_Price+Area+Acres', df2).fit()\n",
    "# sales_pred = result2.predict()"
   ]
  },
  {
   "cell_type": "code",
   "execution_count": null,
   "metadata": {},
   "outputs": [
    {
     "name": "stdout",
     "output_type": "stream",
     "text": [
      "ERROR! Session/line number was not unique in database. History logging moved to new session 145\n"
     ]
    }
   ],
   "source": [
    "result2.predict('400000','3000','2')"
   ]
  },
  {
   "cell_type": "code",
   "execution_count": 30,
   "metadata": {},
   "outputs": [
    {
     "data": {
      "text/html": [
       "<div>\n",
       "<style scoped>\n",
       "    .dataframe tbody tr th:only-of-type {\n",
       "        vertical-align: middle;\n",
       "    }\n",
       "\n",
       "    .dataframe tbody tr th {\n",
       "        vertical-align: top;\n",
       "    }\n",
       "\n",
       "    .dataframe thead th {\n",
       "        text-align: right;\n",
       "    }\n",
       "</style>\n",
       "<table border=\"1\" class=\"dataframe\">\n",
       "  <thead>\n",
       "    <tr style=\"text-align: right;\">\n",
       "      <th></th>\n",
       "      <th>List_Price</th>\n",
       "      <th>Area</th>\n",
       "      <th>Acres</th>\n",
       "    </tr>\n",
       "  </thead>\n",
       "  <tbody>\n",
       "    <tr>\n",
       "      <th>0</th>\n",
       "      <td>400000</td>\n",
       "      <td>3000</td>\n",
       "      <td>2</td>\n",
       "    </tr>\n",
       "  </tbody>\n",
       "</table>\n",
       "</div>"
      ],
      "text/plain": [
       "   List_Price  Area  Acres\n",
       "0      400000  3000      2"
      ]
     },
     "execution_count": 30,
     "metadata": {},
     "output_type": "execute_result"
    }
   ],
   "source": [
    "x0 = pd.DataFrame([{\"List_Price\":400000,\"Area\": 3000, \"Acres\": 2}])\n",
    "x0"
   ]
  },
  {
   "cell_type": "code",
   "execution_count": 31,
   "metadata": {},
   "outputs": [
    {
     "data": {
      "text/html": [
       "<div>\n",
       "<style scoped>\n",
       "    .dataframe tbody tr th:only-of-type {\n",
       "        vertical-align: middle;\n",
       "    }\n",
       "\n",
       "    .dataframe tbody tr th {\n",
       "        vertical-align: top;\n",
       "    }\n",
       "\n",
       "    .dataframe thead th {\n",
       "        text-align: right;\n",
       "    }\n",
       "</style>\n",
       "<table border=\"1\" class=\"dataframe\">\n",
       "  <thead>\n",
       "    <tr style=\"text-align: right;\">\n",
       "      <th></th>\n",
       "      <th>mean</th>\n",
       "      <th>mean_se</th>\n",
       "      <th>mean_ci_lower</th>\n",
       "      <th>mean_ci_upper</th>\n",
       "      <th>obs_ci_lower</th>\n",
       "      <th>obs_ci_upper</th>\n",
       "    </tr>\n",
       "  </thead>\n",
       "  <tbody>\n",
       "    <tr>\n",
       "      <th>0</th>\n",
       "      <td>391749.115891</td>\n",
       "      <td>3113.590544</td>\n",
       "      <td>385434.461587</td>\n",
       "      <td>398063.770195</td>\n",
       "      <td>373005.689826</td>\n",
       "      <td>410492.541956</td>\n",
       "    </tr>\n",
       "  </tbody>\n",
       "</table>\n",
       "</div>"
      ],
      "text/plain": [
       "            mean      mean_se  mean_ci_lower  mean_ci_upper   obs_ci_lower  \\\n",
       "0  391749.115891  3113.590544  385434.461587  398063.770195  373005.689826   \n",
       "\n",
       "    obs_ci_upper  \n",
       "0  410492.541956  "
      ]
     },
     "execution_count": 31,
     "metadata": {},
     "output_type": "execute_result"
    }
   ],
   "source": [
    "p = result2.get_prediction(x0)\n",
    "p.summary_frame()"
   ]
  },
  {
   "cell_type": "code",
   "execution_count": 32,
   "metadata": {},
   "outputs": [
    {
     "data": {
      "text/plain": [
       "0    391749.115891\n",
       "dtype: float64"
      ]
     },
     "execution_count": 32,
     "metadata": {},
     "output_type": "execute_result"
    }
   ],
   "source": [
    "result2.predict(x0)"
   ]
  },
  {
   "cell_type": "markdown",
   "metadata": {},
   "source": [
    "## giá bán 391749.115891"
   ]
  },
  {
   "cell_type": "code",
   "execution_count": null,
   "metadata": {},
   "outputs": [],
   "source": []
  }
 ],
 "metadata": {
  "kernelspec": {
   "display_name": "Python 3",
   "language": "python",
   "name": "python3"
  },
  "language_info": {
   "codemirror_mode": {
    "name": "ipython",
    "version": 3
   },
   "file_extension": ".py",
   "mimetype": "text/x-python",
   "name": "python",
   "nbconvert_exporter": "python",
   "pygments_lexer": "ipython3",
   "version": "3.8.3"
  }
 },
 "nbformat": 4,
 "nbformat_minor": 4
}
